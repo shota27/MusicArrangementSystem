{
  "cells": [
    {
      "cell_type": "code",
      "execution_count": null,
      "metadata": {
        "colab": {
          "base_uri": "https://localhost:8080/"
        },
        "id": "kzIPsttD_36n",
        "outputId": "9d85fff2-0caf-4f1e-9681-c2f65821630d"
      },
      "outputs": [
        {
          "name": "stdout",
          "output_type": "stream",
          "text": [
            "Requirement already satisfied: music21 in /usr/local/lib/python3.10/dist-packages (9.1.0)\n",
            "Requirement already satisfied: chardet in /usr/local/lib/python3.10/dist-packages (from music21) (5.2.0)\n",
            "Requirement already satisfied: joblib in /usr/local/lib/python3.10/dist-packages (from music21) (1.3.2)\n",
            "Requirement already satisfied: jsonpickle in /usr/local/lib/python3.10/dist-packages (from music21) (3.0.2)\n",
            "Requirement already satisfied: matplotlib in /usr/local/lib/python3.10/dist-packages (from music21) (3.7.1)\n",
            "Requirement already satisfied: more-itertools in /usr/local/lib/python3.10/dist-packages (from music21) (10.1.0)\n",
            "Requirement already satisfied: numpy in /usr/local/lib/python3.10/dist-packages (from music21) (1.23.5)\n",
            "Requirement already satisfied: requests in /usr/local/lib/python3.10/dist-packages (from music21) (2.31.0)\n",
            "Requirement already satisfied: webcolors>=1.5 in /usr/local/lib/python3.10/dist-packages (from music21) (1.13)\n",
            "Requirement already satisfied: contourpy>=1.0.1 in /usr/local/lib/python3.10/dist-packages (from matplotlib->music21) (1.2.0)\n",
            "Requirement already satisfied: cycler>=0.10 in /usr/local/lib/python3.10/dist-packages (from matplotlib->music21) (0.12.1)\n",
            "Requirement already satisfied: fonttools>=4.22.0 in /usr/local/lib/python3.10/dist-packages (from matplotlib->music21) (4.48.1)\n",
            "Requirement already satisfied: kiwisolver>=1.0.1 in /usr/local/lib/python3.10/dist-packages (from matplotlib->music21) (1.4.5)\n",
            "Requirement already satisfied: packaging>=20.0 in /usr/local/lib/python3.10/dist-packages (from matplotlib->music21) (23.2)\n",
            "Requirement already satisfied: pillow>=6.2.0 in /usr/local/lib/python3.10/dist-packages (from matplotlib->music21) (9.4.0)\n",
            "Requirement already satisfied: pyparsing>=2.3.1 in /usr/local/lib/python3.10/dist-packages (from matplotlib->music21) (3.1.1)\n",
            "Requirement already satisfied: python-dateutil>=2.7 in /usr/local/lib/python3.10/dist-packages (from matplotlib->music21) (2.8.2)\n",
            "Requirement already satisfied: charset-normalizer<4,>=2 in /usr/local/lib/python3.10/dist-packages (from requests->music21) (3.3.2)\n",
            "Requirement already satisfied: idna<4,>=2.5 in /usr/local/lib/python3.10/dist-packages (from requests->music21) (3.6)\n",
            "Requirement already satisfied: urllib3<3,>=1.21.1 in /usr/local/lib/python3.10/dist-packages (from requests->music21) (2.0.7)\n",
            "Requirement already satisfied: certifi>=2017.4.17 in /usr/local/lib/python3.10/dist-packages (from requests->music21) (2024.2.2)\n",
            "Requirement already satisfied: six>=1.5 in /usr/local/lib/python3.10/dist-packages (from python-dateutil>=2.7->matplotlib->music21) (1.16.0)\n"
          ]
        }
      ],
      "source": [
        "!pip install music21"
      ]
    },
    {
      "cell_type": "code",
      "execution_count": null,
      "metadata": {
        "colab": {
          "base_uri": "https://localhost:8080/"
        },
        "id": "vGP1PvgB1LYV",
        "outputId": "0d92e02e-34a5-4b08-dfda-ee9e167f2329"
      },
      "outputs": [
        {
          "name": "stdout",
          "output_type": "stream",
          "text": [
            "Requirement already satisfied: matplotlib in /usr/local/lib/python3.10/dist-packages (3.7.1)\n",
            "Requirement already satisfied: contourpy>=1.0.1 in /usr/local/lib/python3.10/dist-packages (from matplotlib) (1.2.0)\n",
            "Requirement already satisfied: cycler>=0.10 in /usr/local/lib/python3.10/dist-packages (from matplotlib) (0.12.1)\n",
            "Requirement already satisfied: fonttools>=4.22.0 in /usr/local/lib/python3.10/dist-packages (from matplotlib) (4.48.1)\n",
            "Requirement already satisfied: kiwisolver>=1.0.1 in /usr/local/lib/python3.10/dist-packages (from matplotlib) (1.4.5)\n",
            "Requirement already satisfied: numpy>=1.20 in /usr/local/lib/python3.10/dist-packages (from matplotlib) (1.23.5)\n",
            "Requirement already satisfied: packaging>=20.0 in /usr/local/lib/python3.10/dist-packages (from matplotlib) (23.2)\n",
            "Requirement already satisfied: pillow>=6.2.0 in /usr/local/lib/python3.10/dist-packages (from matplotlib) (9.4.0)\n",
            "Requirement already satisfied: pyparsing>=2.3.1 in /usr/local/lib/python3.10/dist-packages (from matplotlib) (3.1.1)\n",
            "Requirement already satisfied: python-dateutil>=2.7 in /usr/local/lib/python3.10/dist-packages (from matplotlib) (2.8.2)\n",
            "Requirement already satisfied: six>=1.5 in /usr/local/lib/python3.10/dist-packages (from python-dateutil>=2.7->matplotlib) (1.16.0)\n"
          ]
        }
      ],
      "source": [
        "pip install matplotlib"
      ]
    },
    {
      "cell_type": "code",
      "execution_count": null,
      "metadata": {
        "colab": {
          "base_uri": "https://localhost:8080/"
        },
        "id": "CeN1RFvw1PCs",
        "outputId": "26bbb48d-9089-46b1-b080-6769754edf01"
      },
      "outputs": [
        {
          "name": "stdout",
          "output_type": "stream",
          "text": [
            "Drive already mounted at /content/drive; to attempt to forcibly remount, call drive.mount(\"/content/drive\", force_remount=True).\n"
          ]
        }
      ],
      "source": [
        "from google.colab import drive\n",
        "drive.mount('/content/drive')"
      ]
    },
    {
      "cell_type": "code",
      "execution_count": null,
      "metadata": {
        "id": "LxnPQCI91S5a"
      },
      "outputs": [],
      "source": [
        "import matplotlib.pyplot as plt"
      ]
    },
    {
      "cell_type": "code",
      "execution_count": null,
      "metadata": {
        "colab": {
          "base_uri": "https://localhost:8080/"
        },
        "id": "ifsKIpMX1SxM",
        "outputId": "59d652ff-d53b-4d24-8078-e24640fb3ec1"
      },
      "outputs": [
        {
          "name": "stdout",
          "output_type": "stream",
          "text": [
            "Requirement already satisfied: pretty_midi in /usr/local/lib/python3.10/dist-packages (0.2.10)\n",
            "Requirement already satisfied: numpy>=1.7.0 in /usr/local/lib/python3.10/dist-packages (from pretty_midi) (1.23.5)\n",
            "Requirement already satisfied: mido>=1.1.16 in /usr/local/lib/python3.10/dist-packages (from pretty_midi) (1.3.2)\n",
            "Requirement already satisfied: six in /usr/local/lib/python3.10/dist-packages (from pretty_midi) (1.16.0)\n",
            "Requirement already satisfied: packaging~=23.1 in /usr/local/lib/python3.10/dist-packages (from mido>=1.1.16->pretty_midi) (23.2)\n"
          ]
        }
      ],
      "source": [
        "pip install pretty_midi"
      ]
    },
    {
      "cell_type": "code",
      "execution_count": null,
      "metadata": {
        "colab": {
          "base_uri": "https://localhost:8080/"
        },
        "id": "qHBV-2UxxM85",
        "outputId": "255bfe97-db6b-4fcd-de41-4e320a345ebc"
      },
      "outputs": [
        {
          "name": "stdout",
          "output_type": "stream",
          "text": [
            "Collecting MIDIUtil\n",
            "  Downloading MIDIUtil-1.2.1.tar.gz (1.0 MB)\n",
            "\u001b[2K     \u001b[90m━━━━━━━━━━━━━━━━━━━━━━━━━━━━━━━━━━━━━━━━\u001b[0m \u001b[32m1.0/1.0 MB\u001b[0m \u001b[31m7.6 MB/s\u001b[0m eta \u001b[36m0:00:00\u001b[0m\n",
            "\u001b[?25h  Preparing metadata (setup.py) ... \u001b[?25l\u001b[?25hdone\n",
            "Building wheels for collected packages: MIDIUtil\n",
            "  Building wheel for MIDIUtil (setup.py) ... \u001b[?25l\u001b[?25hdone\n",
            "  Created wheel for MIDIUtil: filename=MIDIUtil-1.2.1-py3-none-any.whl size=54568 sha256=8c5c83114fef992bafbe1acae2d8d01ade327f835ebaae49f46e6fd02824014d\n",
            "  Stored in directory: /root/.cache/pip/wheels/af/43/4a/00b5e4f2fe5e2cd6e92b461995a3a97a2cebb30ab5783501b0\n",
            "Successfully built MIDIUtil\n",
            "Installing collected packages: MIDIUtil\n",
            "Successfully installed MIDIUtil-1.2.1\n"
          ]
        }
      ],
      "source": [
        "!pip install MIDIUtil\n",
        "\n",
        "#MIDIにする行列の設定は上のセル\n",
        "from midiutil import MIDIFile"
      ]
    },
    {
      "cell_type": "markdown",
      "metadata": {},
      "source": [
        "### xmlファイルを0,1の二値行列に変換する関数"
      ]
    },
    {
      "cell_type": "code",
      "execution_count": null,
      "metadata": {
        "colab": {
          "base_uri": "https://localhost:8080/"
        },
        "id": "J4fqazoZ1VBU",
        "outputId": "d8263459-a39d-4ffa-8754-d69dd8a1fcbb"
      },
      "outputs": [
        {
          "data": {
            "text/plain": [
              "23"
            ]
          },
          "execution_count": 18,
          "metadata": {},
          "output_type": "execute_result"
        }
      ],
      "source": [
        "from music21 import converter\n",
        "import numpy as np\n",
        "\n",
        "score = converter.parse(\"/content/drive/MyDrive/music21/Tchaikovsky_Op._71a_-_The_Nutcracker_Suite_for_String_Quartet_-_I._Ouverture_Miniature.mxl\")\n",
        "\n",
        "#128,64版の行列化\n",
        "def musicxml_to_binary_matrix_128_64(score):\n",
        "\n",
        "      # バイナリ行列を格納するためのリスト\n",
        "      binary_matrices = []\n",
        "\n",
        "      #出力用のリスト\n",
        "      matrix_list=[]\n",
        "\n",
        "      #出力の時にpartの番号がわかるようにするため\n",
        "      part_count=1\n",
        "\n",
        "      # 各パートについて処理\n",
        "      for part in score.parts:\n",
        "\n",
        "          # このパートの音符と和音の開始時間と終了時間を記録するためのリストを初期化\n",
        "          note_events = []\n",
        "\n",
        "          #パートごとに楽譜の階層構造を平坦化し、音符や和音などの全要素に順番にアクセス、elementとは<music21.note.Note C#>など\n",
        "          for element in part.flatten():\n",
        "\n",
        "              #現在処理中の要素（element）が単一の音符（Note）であるかどうかを判断\n",
        "              if 'Note' in element.classes:\n",
        "                  #element.offsetは楽譜の時間をバイナリ行列の列のインデックスにマッピングするためのスケール係数（スケーリング係数）として機能する\n",
        "                  #element.offset のデフォルト単位は、四分音符、つまりある音符が、楽譜の最初から四分音符いくつ目の時間にあたる場所かをデフォルトで表す、そのためそれに４をかけたら16分音符いくつ目かになる\n",
        "                  #elementは四分音符単位の区切り\n",
        "                  #試しに0.25にしたら4分音符の４倍の長さの単位になるので小節数が分かった\n",
        "                  #4にした場合、曲が4分音符いくつ分かを表す\n",
        "                  start_time = int(element.offset * 4)  # 四分音符の単位で時間を計算\n",
        "\n",
        "                  #音符の持続時間を計算\n",
        "                  #element.duration.quarterLengthは、音符がどのくらい長く鳴るかを四分音符単位で表したもの\n",
        "                  duration = int(element.duration.quarterLength * 4)  # 四分音符の単位で持続時間を計算\n",
        "\n",
        "                  midi_number = element.pitch.midi  # MIDIノート番号\n",
        "                  note_events.append((start_time, duration, midi_number))#開始時間、持続時間、MIDIノート番号をタプルとしてnote_eventsリストに追加\n",
        "              elif 'Chord' in element.classes:  # 和音の処理\n",
        "                  start_time = int(element.offset * 4)\n",
        "                  duration = int(element.duration.quarterLength * 1)\n",
        "                  for note in element.pitches:\n",
        "                      midi_number = note.midi\n",
        "                      note_events.append((start_time, duration, midi_number))\n",
        "                                                                                 #print(note_events)\n",
        "          # 最大時間を計算\n",
        "          max_time = max(start_time + duration for start_time, duration, _ in note_events)\n",
        "          #print(max_time)\n",
        "\n",
        "          # バイナリ行列を作成（128行、最大時間の列）\n",
        "          matrix = np.zeros((128, max_time), dtype=int)\n",
        "          #print(matrix.shape)\n",
        "\n",
        "          # 音符イベントを行列に反映\n",
        "          for start_time, duration, midi_number in note_events:\n",
        "              matrix[midi_number, start_time:start_time + duration] = 1  #note_eventsで音の高さ、開始時間、継続時間がわかっているので、行列の(音の高さ,開始時間から開始時間+継続時間のスライス)で音が鳴っている時間に1を代入している\n",
        "\n",
        "          # このパートのバイナリ行列をリストに追加\n",
        "          #matrix_list.append(matrix)\n",
        "          binary_matrices.append(matrix)#binary_matricesはmatrixがpartの個数回付け足されているリスト、1つ目のリストは1つ目のパートの行列\n",
        "\n",
        "          #パートごとに分かれた行列を4小節ごとに区切ってパートごとのリストにする\n",
        "          split_arrays=[]\n",
        "\n",
        "          for r in range(len(binary_matrices)):\n",
        "                #binary_matricesのr番目の全ての行とi列目からi+15列目までをsplit_arraysに格納する、0から16ごとにbinary_matricesのr番目の列数までiは変化する\n",
        "                #これをパートの個数回繰り返した結果がsplt_arrays\n",
        "               split_arrays.append([binary_matrices[r][:, i:i+64] for i in range(0, binary_matrices[r].shape[1], 64)])\n",
        "\n",
        "       #return split_arrays\n",
        "      return split_arrays   #入力の確認をする際にはコメントアウトを解除\n",
        "\n",
        "#musicxml_to_binary_matrix(score)\n",
        "#musicxml_to_binary_matrix(score)[1][0][0]  #関数結果の2番目には2パートの行列があるのでそれの最初の部分\n",
        "len(musicxml_to_binary_matrix_128_64(score)[0])"
      ]
    },
    {
      "cell_type": "markdown",
      "metadata": {},
      "source": [
        "### 行列をMIDIファイルに変換する関数"
      ]
    },
    {
      "cell_type": "code",
      "execution_count": null,
      "metadata": {
        "id": "gdDzJGngwVEu"
      },
      "outputs": [],
      "source": [
        "\n",
        "def midi (matrix):\n",
        "      # MIDIファイルを初期化\n",
        "      midi_file = MIDIFile(1)  # トラック数1\n",
        "      track = 0   # トラック0\n",
        "      time = 0    # 開始時間\n",
        "      midi_file.addTrackName(track, time, \"Track\")\n",
        "      midi_file.addTempo(track, time, 60)  # テンポ120 BPM\n",
        "\n",
        "      # 行列からMIDIノートを生成\n",
        "      for row in range(matrix.shape[0]):\n",
        "          note = row  # MIDIノートナンバー\n",
        "          duration = 0  # 音符の持続時間\n",
        "          for col in range(matrix.shape[1]):\n",
        "              if matrix[row, col] == 1:\n",
        "                  duration += 1  # 音符の持続時間を延長\n",
        "\n",
        "              elif duration > 0:\n",
        "                  # 音符の終わりに到達\n",
        "                  midi_file.addNote(track, 0, note, time + col - duration, duration, 100)\n",
        "                  duration = 0\n",
        "\n",
        "          #行の要素の全てが1の場合、行の最後でもfor文の中のifブロックが実行されるのでelifが実行されず保存がないためforループの外で行の全てが1の場合を保存\n",
        "          if duration > 0:\n",
        "              print(\"activated\")\n",
        "              midi_file.addNote(track, 0, note, time + matrix.shape[1] - duration, duration, 100) #forループ外なのでcolではなくmatrix.shape[1]-1\n",
        "\n",
        "\n",
        "      # MIDIファイルを保存\n",
        "      with open(\"output.mid\", \"wb\") as output_file:\n",
        "          midi_file.writeFile(output_file)\n",
        "      return output_file"
      ]
    },
    {
      "cell_type": "markdown",
      "metadata": {},
      "source": [
        "### xmlファイルを行列化する関数を用いて、全曲を行列化しリストに格納"
      ]
    },
    {
      "cell_type": "code",
      "execution_count": null,
      "metadata": {
        "colab": {
          "base_uri": "https://localhost:8080/"
        },
        "id": "itPfF0ZZ5COl",
        "outputId": "514795aa-af53-4a88-b71e-627b58133c82"
      },
      "outputs": [
        {
          "name": "stdout",
          "output_type": "stream",
          "text": [
            "8\n",
            "8\n"
          ]
        }
      ],
      "source": [
        "#ピアノ譜格納版\n",
        "#split_arraysには2つ行列がある\n",
        "score_name=\"Wedding_March_from_Midsummer_Nigts_Dream_F.Mendelssohn\"\n",
        "score = converter.parse(\"/content/drive/My Drive/music21/\"+score_name+\".mxl\")\n",
        "score_array=musicxml_to_binary_matrix_128_64(score)\n",
        "\n",
        "#出力の数字は実際の小節数と異なるのは途中で3/4になったり2/4になったりするから\n",
        "Wedding_March_p1=score_array[0][1:9]   #[4:36]と同じ　　[:38]\n",
        "Wedding_March_p2=score_array[1][1:9]   #[:38]\n",
        "print(len(Wedding_March_p1))\n",
        "print(len(Wedding_March_p2))\n"
      ]
    },
    {
      "cell_type": "code",
      "execution_count": null,
      "metadata": {
        "colab": {
          "base_uri": "https://localhost:8080/"
        },
        "id": "9ut4dsNU6zo2",
        "outputId": "83cb6ee0-335d-4ae0-818b-5c99d80b58d4"
      },
      "outputs": [
        {
          "name": "stdout",
          "output_type": "stream",
          "text": [
            "8\n",
            "8\n",
            "8\n",
            "8\n"
          ]
        }
      ],
      "source": [
        "#四重奏譜格納版\n",
        "#score_arraysには4つ行列がある\n",
        "score_name=\"Wedding_March_for_string_quarter.\"\n",
        "score = converter.parse(\"/content/drive/My Drive/music21/\"+score_name+\".mxl\")\n",
        "score_array=musicxml_to_binary_matrix_128_64(score)\n",
        "\n",
        "Wedding_March_quartet_1=score_array[0][1:9]    #[1:38]    #ここで長さを揃える\n",
        "Wedding_March_quartet_2=score_array[1][1:9]    #[1:38]\n",
        "Wedding_March_quartet_3=score_array[2][1:9]    #[1:38]\n",
        "Wedding_March_quartet_4=score_array[3][1:9]    #[1:38]\n",
        "\n",
        "print(len(Wedding_March_quartet_1[:730]))\n",
        "print(len(Wedding_March_quartet_2))\n",
        "print(len(Wedding_March_quartet_3))\n",
        "print(len(Wedding_March_quartet_4))"
      ]
    },
    {
      "cell_type": "code",
      "execution_count": null,
      "metadata": {
        "colab": {
          "base_uri": "https://localhost:8080/"
        },
        "id": "zRgMxIH862iI",
        "outputId": "a566fb0f-b6e1-42b3-fb72-2b9adad12a71"
      },
      "outputs": [
        {
          "name": "stdout",
          "output_type": "stream",
          "text": [
            "10\n",
            "10\n"
          ]
        }
      ],
      "source": [
        "#ピアノ譜格納版\n",
        "#split_arraysには2つ行列がある\n",
        "score_name=\"The_Entertainer_-_Scott_Joplin\"\n",
        "score = converter.parse(\"/content/drive/My Drive/music21/\"+score_name+\".mxl\")\n",
        "score_array=musicxml_to_binary_matrix_128_64(score)\n",
        "\n",
        "#出力の数字は実際の小節数と異なるのは途中で3/4になったり2/4になったりするから\n",
        "The_entertainer_p1=score_array[0][1:11]      #[4:44]\n",
        "The_entertainer_p2=score_array[1][1:11]      #[4:44]\n",
        "print(len(The_entertainer_p1))\n",
        "print(len(The_entertainer_p2))"
      ]
    },
    {
      "cell_type": "code",
      "execution_count": null,
      "metadata": {
        "colab": {
          "base_uri": "https://localhost:8080/"
        },
        "id": "r-jpYpZS63Gj",
        "outputId": "cf7d26bc-83c6-4f2b-cbe8-f047185aacff"
      },
      "outputs": [
        {
          "name": "stdout",
          "output_type": "stream",
          "text": [
            "10\n",
            "10\n",
            "10\n",
            "10\n"
          ]
        }
      ],
      "source": [
        "#四重奏譜格納版\n",
        "#score_arraysには4つ行列がある\n",
        "score_name=\"The_Entertainer_for_String_Quartet\"\n",
        "score = converter.parse(\"/content/drive/My Drive/music21/\"+score_name+\".mxl\")\n",
        "score_array=musicxml_to_binary_matrix_128_64(score)\n",
        "\n",
        "The_entertainer_quartet_1=score_array[0][1:11]        #[1:45]    #ここで長さを揃える\n",
        "The_entertainer_quartet_2=score_array[1][1:11]        #[1:45]\n",
        "The_entertainer_quartet_3=score_array[2][1:11]        #[1:45]\n",
        "The_entertainer_quartet_4=score_array[3][1:11]        #[1:45]\n",
        "\n",
        "print(len(The_entertainer_quartet_1[:730]))\n",
        "print(len(The_entertainer_quartet_2))\n",
        "print(len(The_entertainer_quartet_3))\n",
        "print(len(The_entertainer_quartet_4))"
      ]
    },
    {
      "cell_type": "code",
      "execution_count": null,
      "metadata": {
        "colab": {
          "base_uri": "https://localhost:8080/"
        },
        "id": "PcilhofA66HW",
        "outputId": "b39da567-597d-4a60-b32c-6d473e1ce43e"
      },
      "outputs": [
        {
          "name": "stdout",
          "output_type": "stream",
          "text": [
            "12\n",
            "12\n"
          ]
        }
      ],
      "source": [
        "#ピアノ譜格納版\n",
        "#split_arraysには2つ行列がある\n",
        "score_name=\"Sarabande_Suite_in_D_minor_HWV_437\"\n",
        "score = converter.parse(\"/content/drive/My Drive/music21/\"+score_name+\".mxl\")\n",
        "score_array=musicxml_to_binary_matrix_128_64(score)\n",
        "\n",
        "#出力の数字は実際の小節数と異なるのは途中で3/4になったり2/4になったりするから\n",
        "Sarabande_p1=score_array[0][:12]       #[:49]\n",
        "Sarabande_p2=score_array[1][:12]       #[:49]\n",
        "print(len(Sarabande_p1))\n",
        "print(len(Sarabande_p2))\n",
        "\n"
      ]
    },
    {
      "cell_type": "code",
      "execution_count": null,
      "metadata": {
        "colab": {
          "base_uri": "https://localhost:8080/"
        },
        "id": "AogqAqdc68uG",
        "outputId": "f1f21a65-0182-43a0-8efc-82b5fa1f6130"
      },
      "outputs": [
        {
          "name": "stdout",
          "output_type": "stream",
          "text": [
            "12\n",
            "12\n",
            "12\n",
            "12\n"
          ]
        }
      ],
      "source": [
        "#四重奏譜格納版\n",
        "#score_arraysには4つ行列がある\n",
        "score_name=\"sarabande_quartet_Haendel\"\n",
        "score = converter.parse(\"/content/drive/My Drive/music21/\"+score_name+\".mxl\")\n",
        "score_array=musicxml_to_binary_matrix_128_64(score)\n",
        "\n",
        "Sarabande_quartet_1=score_array[0][:12]       #[:49]    #ここで長さを揃える\n",
        "Sarabande_quartet_2=score_array[1][:12]       #[:49]\n",
        "Sarabande_quartet_3=score_array[2][:12]       #[:49]\n",
        "Sarabande_quartet_4=score_array[3][:12]       #[:49]\n",
        "\n",
        "print(len(Sarabande_quartet_1[:730]))\n",
        "print(len(Sarabande_quartet_2))\n",
        "print(len(Sarabande_quartet_3))\n",
        "print(len(Sarabande_quartet_4))"
      ]
    },
    {
      "cell_type": "code",
      "execution_count": null,
      "metadata": {
        "colab": {
          "base_uri": "https://localhost:8080/"
        },
        "id": "FQlemRyR6_KO",
        "outputId": "05f2a103-d93c-4b03-f770-1bde654273b4"
      },
      "outputs": [
        {
          "name": "stdout",
          "output_type": "stream",
          "text": [
            "15\n",
            "15\n"
          ]
        }
      ],
      "source": [
        "#ピアノ譜格納版\n",
        "#split_arraysには2つ行列がある\n",
        "score_name=\"Nearer_My_God_To_Thee_Piano_arrangement\"\n",
        "score = converter.parse(\"/content/drive/My Drive/music21/\"+score_name+\".mxl\")\n",
        "score_array=musicxml_to_binary_matrix_128_64(score)\n",
        "\n",
        "#出力の数字は実際の小節数と異なるのは途中で3/4になったり2/4になったりするから\n",
        "Nearer_my_god_to_three_p1=score_array[0][:15]       #[:63]\n",
        "Nearer_my_god_to_three_p2=score_array[1][:15]       #[:63]\n",
        "print(len(Nearer_my_god_to_three_p1))\n",
        "print(len(Nearer_my_god_to_three_p2))"
      ]
    },
    {
      "cell_type": "code",
      "execution_count": null,
      "metadata": {
        "colab": {
          "base_uri": "https://localhost:8080/"
        },
        "id": "LJrngOma7BjC",
        "outputId": "53357593-c358-4e65-e055-035855b2dca3"
      },
      "outputs": [
        {
          "name": "stdout",
          "output_type": "stream",
          "text": [
            "15\n",
            "15\n",
            "15\n",
            "15\n"
          ]
        }
      ],
      "source": [
        "#四重奏譜格納版\n",
        "#score_arraysには4つ行列がある\n",
        "score_name=\"Nearer_my_God_to_Thee\"\n",
        "score = converter.parse(\"/content/drive/My Drive/music21/\"+score_name+\".mxl\")\n",
        "score_array=musicxml_to_binary_matrix_128_64(score)\n",
        "\n",
        "Nearer_my_god_to_three_quartet_1=score_array[0][:15]       #[:63]    #ここで長さを揃える\n",
        "Nearer_my_god_to_three_quartet_2=score_array[1][:15]       #[:63]\n",
        "Nearer_my_god_to_three_quartet_3=score_array[2][:15]       #[:63]\n",
        "Nearer_my_god_to_three_quartet_4=score_array[3][:15]       #[:63]\n",
        "\n",
        "print(len(Nearer_my_god_to_three_quartet_1[:730]))\n",
        "print(len(Nearer_my_god_to_three_quartet_2))\n",
        "print(len(Nearer_my_god_to_three_quartet_3))\n",
        "print(len(Nearer_my_god_to_three_quartet_4))"
      ]
    },
    {
      "cell_type": "code",
      "execution_count": null,
      "metadata": {
        "colab": {
          "base_uri": "https://localhost:8080/"
        },
        "id": "PantIkzA7Dya",
        "outputId": "2b1e2cf1-e6ee-4d33-fd1a-166a6d8d5bc6"
      },
      "outputs": [
        {
          "name": "stdout",
          "output_type": "stream",
          "text": [
            "34\n",
            "34\n"
          ]
        }
      ],
      "source": [
        "#ピアノ譜格納版\n",
        "#split_arraysには2つ行列がある\n",
        "score_name=\"Eine_Kleine_Nachtmusik\"\n",
        "score = converter.parse(\"/content/drive/My Drive/music21/\"+score_name+\".mxl\")\n",
        "score_array=musicxml_to_binary_matrix_128_64(score)\n",
        "\n",
        "#出力の数字は実際の小節数と異なるのは途中で3/4になったり2/4になったりするから\n",
        "Eine_Kleine_Nachtmusik_p1=score_array[0][:34]   #[:136]\n",
        "Eine_Kleine_Nachtmusik_p2=score_array[1][:34]   #[:136]\n",
        "print(len(Eine_Kleine_Nachtmusik_p1))\n",
        "print(len(Eine_Kleine_Nachtmusik_p2))"
      ]
    },
    {
      "cell_type": "code",
      "execution_count": null,
      "metadata": {
        "colab": {
          "base_uri": "https://localhost:8080/"
        },
        "id": "T_tY5R--7GKT",
        "outputId": "8a03bbad-f6c9-4eef-cb5e-930c3f188294"
      },
      "outputs": [
        {
          "name": "stdout",
          "output_type": "stream",
          "text": [
            "34\n",
            "34\n",
            "34\n",
            "34\n"
          ]
        }
      ],
      "source": [
        "#四重奏譜格納版\n",
        "#score_arraysには4つ行列がある\n",
        "score_name=\"Serenade_No._13_in_G_Eine_Kleine_Nachtmusik_K525\"\n",
        "score = converter.parse(\"/content/drive/My Drive/music21/\"+score_name+\".mxl\")\n",
        "score_array=musicxml_to_binary_matrix_128_64(score)\n",
        "\n",
        "\n",
        "\n",
        "Eine_Kleine_Nachtmusik_quartet_1=score_array[0][:34]   #[:136]    #ここで長さを揃える\n",
        "Eine_Kleine_Nachtmusik_quartet_2=score_array[1][:34]   #[:136]\n",
        "Eine_Kleine_Nachtmusik_quartet_3=score_array[2][:34]   #[:136]\n",
        "Eine_Kleine_Nachtmusik_quartet_4=score_array[3][:34]   #[:136]\n",
        "\n",
        "print(len(Eine_Kleine_Nachtmusik_quartet_1[:730]))\n",
        "print(len(Eine_Kleine_Nachtmusik_quartet_2))\n",
        "print(len(Eine_Kleine_Nachtmusik_quartet_3))\n",
        "print(len(Eine_Kleine_Nachtmusik_quartet_4))"
      ]
    },
    {
      "cell_type": "code",
      "execution_count": null,
      "metadata": {
        "colab": {
          "base_uri": "https://localhost:8080/"
        },
        "id": "xA3GpN0d7IkO",
        "outputId": "538424da-d340-4ea6-de27-2d6dfe8b6afe"
      },
      "outputs": [
        {
          "name": "stdout",
          "output_type": "stream",
          "text": [
            "10\n",
            "10\n"
          ]
        }
      ],
      "source": [
        "#ピアノ譜格納版\n",
        "#split_arraysには2つ行列がある\n",
        "score_name=\"Mozart_-_Lacrimosa_from_the_Requiem_in_D_minor\"\n",
        "score = converter.parse(\"/content/drive/My Drive/music21/\"+score_name+\".mxl\")\n",
        "score_array=musicxml_to_binary_matrix_128_64(score)\n",
        "\n",
        "Lacrimosa_p1=score_array[0][:-1]#ピアノ譜の最終小節の長さが短いのでカット\n",
        "Lacrimosa_p2=score_array[1][:-1]\n",
        "print(len(Lacrimosa_p1))\n",
        "print(len(Lacrimosa_p2))"
      ]
    },
    {
      "cell_type": "code",
      "execution_count": null,
      "metadata": {
        "colab": {
          "base_uri": "https://localhost:8080/"
        },
        "id": "0nJCx3L97LA0",
        "outputId": "6ddb8b57-9f70-4acb-e564-26bf5e62ccad"
      },
      "outputs": [
        {
          "name": "stdout",
          "output_type": "stream",
          "text": [
            "10\n",
            "10\n",
            "10\n",
            "10\n"
          ]
        }
      ],
      "source": [
        "#四重奏譜格納版\n",
        "#score_arraysには4つ行列がある\n",
        "score_name=\"Mozart_Lacrimosa_string_quartet\"\n",
        "score = converter.parse(\"/content/drive/My Drive/music21/\"+score_name+\".mxl\")\n",
        "score_array=musicxml_to_binary_matrix_128_64(score)\n",
        "\n",
        "Lacrimosa_quartet_1=score_array[0][:-2]    #ここで長さを揃える\n",
        "Lacrimosa_quartet_2=score_array[1][:-2]\n",
        "Lacrimosa_quartet_3=score_array[2][:-2]\n",
        "Lacrimosa_quartet_4=score_array[3][:-2]\n",
        "\n",
        "print(len(Lacrimosa_quartet_1[:730]))\n",
        "print(len(Lacrimosa_quartet_2))\n",
        "print(len(Lacrimosa_quartet_3))\n",
        "print(len(Lacrimosa_quartet_4))"
      ]
    },
    {
      "cell_type": "code",
      "execution_count": null,
      "metadata": {
        "colab": {
          "base_uri": "https://localhost:8080/"
        },
        "id": "wBmBX1UO7OZr",
        "outputId": "29fa1d10-145b-40fc-f8e6-4b52413fd72d"
      },
      "outputs": [
        {
          "name": "stdout",
          "output_type": "stream",
          "text": [
            "5\n",
            "5\n"
          ]
        }
      ],
      "source": [
        "#ピアノ譜格納版\n",
        "#split_arraysには2つ行列がある\n",
        "score_name=\"Dance_of_the_Sugar_Plum_Fairy-Tchaikovsky_ease\"    #この部分をlacrimosaにした場合は音符が正しく表示されたのでsugar plum fairyの問題\n",
        "score = converter.parse(\"/content/drive/MyDrive/music21/\"+score_name+\".mxl\")\n",
        "score_array=musicxml_to_binary_matrix_128_64(score)\n",
        "\n",
        "#出力の数字は実際の小節数と異なるのは途中で3/4になったり2/4になったりするから\n",
        "Dance_of_the_sugar_plum_fairy_p1=score_array[0][:5]   #[:20]\n",
        "Dance_of_the_sugar_plum_fairy_p2=score_array[1][:5]   #[:20]#最後の小節がp2だけ短いのでカット\n",
        "print(len(Dance_of_the_sugar_plum_fairy_p1))\n",
        "print(len(Dance_of_the_sugar_plum_fairy_p2))"
      ]
    },
    {
      "cell_type": "code",
      "execution_count": null,
      "metadata": {
        "colab": {
          "base_uri": "https://localhost:8080/"
        },
        "id": "SIcuEPyB7Q2L",
        "outputId": "9e90bc28-efc9-4555-ecaf-d91ec4b87226"
      },
      "outputs": [
        {
          "name": "stdout",
          "output_type": "stream",
          "text": [
            "5\n",
            "5\n",
            "5\n",
            "5\n"
          ]
        }
      ],
      "source": [
        "#四重奏譜格納版\n",
        "#score_arraysには4つ行列がある\n",
        "score_name=\"Dance_of_the_Sugar_Plum_Fairy_Nutcracker_Suite_-_Pyotr_Ilyich_Tchaikovsky\"\n",
        "score = converter.parse(\"/content/drive/My Drive/music21/\"+score_name+\".mxl\")\n",
        "score_array=musicxml_to_binary_matrix_128_64(score)\n",
        "\n",
        "Dance_of_the_sugar_plum_fairy_quartet_1=score_array[0][:5]   #[:20]    #ここで長さを揃える\n",
        "Dance_of_the_sugar_plum_fairy_quartet_2=score_array[1][:5]   #[:20]\n",
        "Dance_of_the_sugar_plum_fairy_quartet_3=score_array[2][:5]   #[:20]\n",
        "Dance_of_the_sugar_plum_fairy_quartet_4=score_array[3][:5]   #[:20]\n",
        "\n",
        "print(len(Dance_of_the_sugar_plum_fairy_quartet_1[:730]))\n",
        "print(len(Dance_of_the_sugar_plum_fairy_quartet_2))\n",
        "print(len(Dance_of_the_sugar_plum_fairy_quartet_3))\n",
        "print(len(Dance_of_the_sugar_plum_fairy_quartet_4))"
      ]
    },
    {
      "cell_type": "code",
      "execution_count": null,
      "metadata": {
        "colab": {
          "base_uri": "https://localhost:8080/"
        },
        "id": "6_-CHngF7VL2",
        "outputId": "3c7291a0-bafc-4ff2-d237-3b12a67e8158"
      },
      "outputs": [
        {
          "name": "stdout",
          "output_type": "stream",
          "text": [
            "4\n",
            "4\n"
          ]
        }
      ],
      "source": [
        "#ピアノ譜格納版\n",
        "#split_arraysには2つ行列がある\n",
        "score_name=\"Morning_Mood\"\n",
        "score = converter.parse(\"/content/drive/My Drive/music21/\"+score_name+\".mxl\")\n",
        "score_array=musicxml_to_binary_matrix_128_64(score)\n",
        "\n",
        "#出力の数字は実際の小節数と異なるのは途中で3/4になったり2/4になったりするから\n",
        "Morning_mood_p1=score_array[0][:4]     #[0:15]  #[15]から微妙に異なるため\n",
        "Morning_mood_p2=score_array[1][:4]     #[0:15]\n",
        "print(len(Morning_mood_p1))\n",
        "print(len(Morning_mood_p2))\n"
      ]
    },
    {
      "cell_type": "code",
      "execution_count": null,
      "metadata": {
        "colab": {
          "base_uri": "https://localhost:8080/",
          "height": 36
        },
        "id": "bpWOOtoDxUPq",
        "outputId": "7b634bd0-1783-47ba-8720-b88e493838b6"
      },
      "outputs": [
        {
          "data": {
            "application/vnd.google.colaboratory.intrinsic+json": {
              "type": "string"
            },
            "text/plain": [
              "\" midi(Morning_mood_quartet_1[0])\\nfrom google.colab import files\\nfiles.download('output.mid')   #ピッタリあっている \""
            ]
          },
          "execution_count": 61,
          "metadata": {},
          "output_type": "execute_result"
        }
      ],
      "source": [
        "''' midi(Morning_mood_quartet_1[0])\n",
        "from google.colab import files\n",
        "files.download('output.mid')   #ピッタリあっている '''"
      ]
    },
    {
      "cell_type": "code",
      "execution_count": null,
      "metadata": {
        "colab": {
          "base_uri": "https://localhost:8080/"
        },
        "id": "YmSKPw8n7Yln",
        "outputId": "61ee4195-0e2c-4421-c442-470be3e23e3b"
      },
      "outputs": [
        {
          "name": "stdout",
          "output_type": "stream",
          "text": [
            "4\n",
            "4\n",
            "4\n",
            "4\n"
          ]
        }
      ],
      "source": [
        "#四重奏譜格納版\n",
        "#score_arraysには4つ行列がある\n",
        "score_name=\"Edvard_Grieg_Peer_Gynt_Suite_No._1_Morning_Mood\"\n",
        "score = converter.parse(\"/content/drive/My Drive/music21/\"+score_name+\".mxl\")\n",
        "score_array=musicxml_to_binary_matrix_128_64(score)\n",
        "\n",
        "Morning_mood_quartet_1=score_array[0][:4]     #[:15]\n",
        "Morning_mood_quartet_2=score_array[1][:4]     #[:15]\n",
        "Morning_mood_quartet_3=score_array[2][:4]     #[:15]\n",
        "Morning_mood_quartet_4=score_array[3][:4]     #[:15]\n",
        "\n",
        "print(len(Morning_mood_quartet_1))\n",
        "print(len(Morning_mood_quartet_2))\n",
        "print(len(Morning_mood_quartet_3))\n",
        "print(len(Morning_mood_quartet_4))"
      ]
    },
    {
      "cell_type": "code",
      "execution_count": null,
      "metadata": {
        "colab": {
          "base_uri": "https://localhost:8080/",
          "height": 1000
        },
        "id": "0glXMRPJvATb",
        "outputId": "be1f3f65-c198-416e-b8e1-d8666bbd891c"
      },
      "outputs": [
        {
          "name": "stdout",
          "output_type": "stream",
          "text": [
            "[[0 0 0 ... 0 0 0]\n",
            " [0 0 0 ... 0 0 0]\n",
            " [0 0 0 ... 0 0 0]\n",
            " ...\n",
            " [0 0 0 ... 0 0 0]\n",
            " [0 0 0 ... 0 0 0]\n",
            " [0 0 0 ... 0 0 0]]\n"
          ]
        },
        {
          "data": {
            "image/png": "[encoded data removed]",
            "text/plain": [
              "<Figure size 2000x3000 with 8 Axes>"
            ]
          },
          "metadata": {
            "image/png": {
              "height": 2359,
              "width": 441
            }
          },
          "output_type": "display_data"
        }
      ],
      "source": [
        "plt.figure(figsize=(20,30))\n",
        "data_0=musicxml_to_binary_matrix_128_64(score)[0][3]  #右手最初の4分音符４つ分    [1][0]で2パート目の最初\n",
        "data_1=musicxml_to_binary_matrix_128_64(score)[1][3]\n",
        "data_2=musicxml_to_binary_matrix_128_64(score)[2][3]\n",
        "data_3=musicxml_to_binary_matrix_128_64(score)[3][3]    #左手最初の4分音符4つ分\n",
        "print(data_0)\n",
        "\n",
        "plt.subplot(4,1,1)#2行１列のサブプロットのうちの１つ目\n",
        "plt.imshow(data_0,cmap='gray',interpolation='none')\n",
        "plt.colorbar()\n",
        "plt.gca().invert_yaxis()\n",
        "plt.grid(True)\n",
        "\n",
        "plt.subplot(4,1,2)#2行１列のサブプロットのうちの2つ目\n",
        "plt.imshow(data_1,cmap='gray',interpolation='none')\n",
        "plt.colorbar()\n",
        "plt.gca().invert_yaxis()\n",
        "plt.grid(True)\n",
        "\n",
        "plt.subplot(4,1,3)#2行１列のサブプロットのうちの2つ目\n",
        "plt.imshow(data_2,cmap='gray',interpolation='none')\n",
        "plt.colorbar()\n",
        "plt.gca().invert_yaxis()\n",
        "plt.grid(True)\n",
        "\n",
        "plt.subplot(4,1,4)#2行１列のサブプロットのうちの2つ目\n",
        "plt.imshow(data_3,cmap='gray',interpolation='none')\n",
        "plt.colorbar()\n",
        "plt.gca().invert_yaxis()\n",
        "plt.grid(True)\n",
        "\n",
        "\n",
        "\n",
        "plt.show()"
      ]
    },
    {
      "cell_type": "code",
      "execution_count": null,
      "metadata": {
        "colab": {
          "base_uri": "https://localhost:8080/"
        },
        "id": "VNZSXbGb7a4c",
        "outputId": "d63e4449-a496-4ab5-c2db-570b4c9dce08"
      },
      "outputs": [
        {
          "name": "stdout",
          "output_type": "stream",
          "text": [
            "5\n",
            "5\n"
          ]
        }
      ],
      "source": [
        "#ピアノ譜格納版\n",
        "#split_arraysには2つ行列がある\n",
        "score_name=\"Tetris_theme_Korobeiniki\"\n",
        "score = converter.parse(\"/content/drive/My Drive/music21/\"+score_name+\".mxl\")\n",
        "score_array=musicxml_to_binary_matrix_128_64(score)\n",
        "\n",
        "#出力の数字は実際の小節数と異なるのは途中で3/4になったり2/4になったりするから\n",
        "Korobeiniki_tetris_p1=score_array[0][0:2]+score_array[0][4:7]   #[0:8]+score_array[0][16:31]\n",
        "Korobeiniki_tetris_p2=score_array[1][0:2]+score_array[1][4:7]\n",
        "print(len(Korobeiniki_tetris_p1))\n",
        "print(len(Korobeiniki_tetris_p2))\n"
      ]
    },
    {
      "cell_type": "code",
      "execution_count": null,
      "metadata": {
        "colab": {
          "base_uri": "https://localhost:8080/",
          "height": 36
        },
        "id": "cN8b5fqb7j5y",
        "outputId": "dbb25b75-cb6b-4343-f5e4-b1390c700446"
      },
      "outputs": [
        {
          "data": {
            "application/vnd.google.colaboratory.intrinsic+json": {
              "type": "string"
            },
            "text/plain": [
              "\" midi(Korobeiniki_tetris_quartet_1[4])\\nfrom google.colab import files\\nfiles.download('output.mid')    \""
            ]
          },
          "execution_count": 65,
          "metadata": {},
          "output_type": "execute_result"
        }
      ],
      "source": [
        "''' midi(Korobeiniki_tetris_quartet_1[4])\n",
        "from google.colab import files\n",
        "files.download('output.mid')    '''"
      ]
    },
    {
      "cell_type": "code",
      "execution_count": null,
      "metadata": {
        "colab": {
          "base_uri": "https://localhost:8080/"
        },
        "id": "F8EVmECL7c6w",
        "outputId": "b8008679-1868-485a-b35c-413c4daa02d3"
      },
      "outputs": [
        {
          "name": "stdout",
          "output_type": "stream",
          "text": [
            "5\n",
            "5\n",
            "5\n",
            "5\n"
          ]
        }
      ],
      "source": [
        "#四重奏譜格納版\n",
        "#score_arraysには4つ行列がある\n",
        "score_name=\"Korobeiniki_Tetris_A_Theme\"\n",
        "score = converter.parse(\"/content/drive/My Drive/music21/\"+score_name+\".mxl\")\n",
        "score_array=musicxml_to_binary_matrix_128_64(score)\n",
        "\n",
        "Korobeiniki_tetris_quartet_1=score_array[0][0:4]+score_array[0][6:7]   #[0:16] +score_array[0][24:31]    #最後の小節の行列の長さが違うので[:32]\n",
        "Korobeiniki_tetris_quartet_2=score_array[1][0:4]+score_array[0][6:7]   #[0:16] +score_array[1][24:31]\n",
        "Korobeiniki_tetris_quartet_3=score_array[2][0:4]+score_array[0][6:7]   #[0:16] +score_array[2][24:31]\n",
        "Korobeiniki_tetris_quartet_4=score_array[3][0:4]+score_array[0][6:7]   #[0:16] +score_array[3][24:31]\n",
        "\n",
        "print(len(Korobeiniki_tetris_quartet_1[:730]))\n",
        "print(len(Korobeiniki_tetris_quartet_2))\n",
        "print(len(Korobeiniki_tetris_quartet_3))\n",
        "print(len(Korobeiniki_tetris_quartet_4))"
      ]
    },
    {
      "cell_type": "code",
      "execution_count": null,
      "metadata": {
        "colab": {
          "base_uri": "https://localhost:8080/"
        },
        "id": "yWOi6lw67gsA",
        "outputId": "2d091385-190f-4bce-df79-098795aec1a3"
      },
      "outputs": [
        {
          "name": "stdout",
          "output_type": "stream",
          "text": [
            "10\n",
            "10\n"
          ]
        }
      ],
      "source": [
        "#ピアノ譜格納版\n",
        "#split_arraysには2つ行列がある\n",
        "score_name=\"Ludwig_Van_Beethoven_-_Ode_To_Joy_-_Piano_Arranged\"\n",
        "score = converter.parse(\"/content/drive/My Drive/music21/\"+score_name+\".mxl\")\n",
        "score_array=musicxml_to_binary_matrix_128_64(score)\n",
        "\n",
        "#出力の数字は実際の小節数と異なるのは途中で3/4になったり2/4になったりするから\n",
        "Ode_to_joy_p1=score_array[0][:10]      #[:42]\n",
        "Ode_to_joy_p2=score_array[1][:10]      #[:42]\n",
        "print(len(Ode_to_joy_p1))\n",
        "print(len(Ode_to_joy_p2))\n"
      ]
    },
    {
      "cell_type": "code",
      "execution_count": null,
      "metadata": {
        "colab": {
          "base_uri": "https://localhost:8080/"
        },
        "id": "u3KG6cJ97jR1",
        "outputId": "ce9162b8-68b7-40da-9e87-5435e6eda6cc"
      },
      "outputs": [
        {
          "name": "stdout",
          "output_type": "stream",
          "text": [
            "10\n",
            "10\n",
            "10\n",
            "10\n"
          ]
        }
      ],
      "source": [
        "#四重奏譜格納版\n",
        "#score_arraysには4つ行列がある\n",
        "score_name=\"Ode_to_Joy_Quartet\"\n",
        "score = converter.parse(\"/content/drive/My Drive/music21/\"+score_name+\".mxl\")\n",
        "score_array=musicxml_to_binary_matrix_128_64(score)\n",
        "\n",
        "Ode_to_joy_quartet_1=score_array[0][:10]      #[:42]    #ここで長さを揃える\n",
        "Ode_to_joy_quartet_2=score_array[1][:10]      #[:42]\n",
        "Ode_to_joy_quartet_3=score_array[2][:10]      #[:42]\n",
        "Ode_to_joy_quartet_4=score_array[3][:10]      #[:42]\n",
        "\n",
        "print(len(Ode_to_joy_quartet_1[:730]))\n",
        "print(len(Ode_to_joy_quartet_2))\n",
        "print(len(Ode_to_joy_quartet_3))\n",
        "print(len(Ode_to_joy_quartet_4))"
      ]
    },
    {
      "cell_type": "code",
      "execution_count": null,
      "metadata": {
        "colab": {
          "base_uri": "https://localhost:8080/"
        },
        "id": "F1R1SYn07l4o",
        "outputId": "22d23ad5-b3f9-4ed2-b5aa-234652ae690a"
      },
      "outputs": [
        {
          "name": "stdout",
          "output_type": "stream",
          "text": [
            "29\n",
            "29\n"
          ]
        }
      ],
      "source": [
        "#ピアノ譜格納版\n",
        "#split_arraysには2つ行列がある\n",
        "score_name=\"Beethoven_Virus\"\n",
        "score = converter.parse(\"/content/drive/My Drive/music21/\"+score_name+\".mxl\")\n",
        "score_array=musicxml_to_binary_matrix_128_64(score)\n",
        "\n",
        "#出力の数字は実際の小節数と異なるのは途中で3/4になったり2/4になったりするから\n",
        "Beethovenvirus_p1=score_array[0][:29]     #[:136]\n",
        "Beethovenvirus_p2=score_array[1][:29]     #[:136]\n",
        "print(len(Beethovenvirus_p1))\n",
        "print(len(Beethovenvirus_p2))\n"
      ]
    },
    {
      "cell_type": "code",
      "execution_count": null,
      "metadata": {
        "colab": {
          "base_uri": "https://localhost:8080/"
        },
        "id": "ONl-cxcw7oJB",
        "outputId": "5481a4c9-02fd-4faf-ef5b-eb3ecfc4e139"
      },
      "outputs": [
        {
          "name": "stdout",
          "output_type": "stream",
          "text": [
            "29\n",
            "29\n",
            "29\n",
            "29\n"
          ]
        }
      ],
      "source": [
        "#四重奏譜格納版\n",
        "#score_arraysには4つ行列がある\n",
        "score_name=\"Beethoven_Virus (1)\"\n",
        "score = converter.parse(\"/content/drive/My Drive/music21/\"+score_name+\".mxl\")\n",
        "score_array=musicxml_to_binary_matrix_128_64(score)\n",
        "\n",
        "Beethovenvirus_quartet_1=score_array[0][:29]     #[:136]    #ここで長さを揃える\n",
        "Beethovenvirus_quartet_2=score_array[1][:29]     #[:136]\n",
        "Beethovenvirus_quartet_3=score_array[2][:29]     #[:136]\n",
        "Beethovenvirus_quartet_4=score_array[3][:29]     #[:136]\n",
        "\n",
        "print(len(Beethovenvirus_quartet_1[:730]))\n",
        "print(len(Beethovenvirus_quartet_2))\n",
        "print(len(Beethovenvirus_quartet_3))\n",
        "print(len(Beethovenvirus_quartet_4))"
      ]
    },
    {
      "cell_type": "code",
      "execution_count": null,
      "metadata": {
        "colab": {
          "base_uri": "https://localhost:8080/"
        },
        "id": "daoWt12q7rfU",
        "outputId": "d1fb1392-a465-433c-f9eb-0fce05c90150"
      },
      "outputs": [
        {
          "name": "stdout",
          "output_type": "stream",
          "text": [
            "22\n",
            "22\n"
          ]
        }
      ],
      "source": [
        "#ピアノ譜格納版\n",
        "#split_arraysには2つ行列がある\n",
        "score_name=\"Canon_in_D (1)\"\n",
        "score = converter.parse(\"/content/drive/My Drive/music21/\"+score_name+\".mxl\")\n",
        "score_array=musicxml_to_binary_matrix_128_64(score)\n",
        "\n",
        "#出力の数字は実際の小節数と異なるのは途中で3/4になったり2/4になったりするか\n",
        "Canon_p1=score_array[0][:22]     #[:89]\n",
        "Canon_p2=score_array[1][:22]     #[:89]\n",
        "print(len(Canon_p1))\n",
        "print(len(Canon_p2))\n"
      ]
    },
    {
      "cell_type": "code",
      "execution_count": null,
      "metadata": {
        "colab": {
          "base_uri": "https://localhost:8080/"
        },
        "id": "lMYlxgPt7tf-",
        "outputId": "62a967d0-b3f6-4f3c-f42a-9ec1a9b99e2e"
      },
      "outputs": [
        {
          "name": "stdout",
          "output_type": "stream",
          "text": [
            "22\n",
            "22\n",
            "22\n",
            "22\n"
          ]
        }
      ],
      "source": [
        "#四重奏譜格納版\n",
        "#score_arraysには4つ行列がある\n",
        "score_name=\"Canon_in_D\"\n",
        "score = converter.parse(\"/content/drive/My Drive/music21/\"+score_name+\".mxl\")\n",
        "score_array=musicxml_to_binary_matrix_128_64(score)\n",
        "\n",
        "Canon_quartet_1=score_array[0][:22]     #[:89]    #ここで長さを揃える\n",
        "Canon_quartet_2=score_array[1][:22]     #[:89]\n",
        "Canon_quartet_3=score_array[2][:22]     #[:89]\n",
        "Canon_quartet_4=score_array[3][:22]     #[:89]\n",
        "\n",
        "print(len(Canon_quartet_1[:730]))\n",
        "print(len(Canon_quartet_2))\n",
        "print(len(Canon_quartet_3))\n",
        "print(len(Canon_quartet_4))"
      ]
    },
    {
      "cell_type": "code",
      "execution_count": null,
      "metadata": {
        "colab": {
          "base_uri": "https://localhost:8080/"
        },
        "id": "jru5n7NT7v_Y",
        "outputId": "8e4420d0-eafc-4a7d-9a19-d6179174c5a9"
      },
      "outputs": [
        {
          "name": "stdout",
          "output_type": "stream",
          "text": [
            "6\n",
            "6\n"
          ]
        }
      ],
      "source": [
        "#ピアノ譜格納版\n",
        "#split_arraysには2つ行列がある\n",
        "score_name=\"Stndchen_Serenade\"\n",
        "score = converter.parse(\"/content/drive/My Drive/music21/\"+score_name+\".mxl\")\n",
        "score_array=musicxml_to_binary_matrix_128_64(score)\n",
        "\n",
        "#出力の数字は実際の小節数と異なるのは途中で3/4になったり2/4になったりするから\n",
        "Serenade_p1=score_array[0][:6]    #[:27]\n",
        "Serenade_p2=score_array[1][:6]    #[:27]\n",
        "print(len(Serenade_p1))\n",
        "print(len(Serenade_p2))\n"
      ]
    },
    {
      "cell_type": "code",
      "execution_count": null,
      "metadata": {
        "colab": {
          "base_uri": "https://localhost:8080/"
        },
        "id": "Nlny7Gtt7whT",
        "outputId": "0bef2ac6-0170-4c4f-d955-5a6929f142d7"
      },
      "outputs": [
        {
          "name": "stdout",
          "output_type": "stream",
          "text": [
            "6\n",
            "6\n",
            "6\n",
            "6\n"
          ]
        }
      ],
      "source": [
        "#四重奏譜格納版\n",
        "#score_arraysには4つ行列がある\n",
        "score_name=\"Serenade_by_Schubert_for_String_Quartet\"\n",
        "score = converter.parse(\"/content/drive/My Drive/music21/\"+score_name+\".mxl\")\n",
        "score_array=musicxml_to_binary_matrix_128_64(score)\n",
        "\n",
        "Serenade_quartet_1=score_array[0][:6]    #[:27]    #ここで長さを揃える\n",
        "Serenade_quartet_2=score_array[1][:6]    #[:27]\n",
        "Serenade_quartet_3=score_array[2][:6]    #[:27]\n",
        "Serenade_quartet_4=score_array[3][:6]    #[:27]\n",
        "\n",
        "print(len(Serenade_quartet_1[:730]))\n",
        "print(len(Serenade_quartet_2))\n",
        "print(len(Serenade_quartet_3))\n",
        "print(len(Serenade_quartet_4))"
      ]
    },
    {
      "cell_type": "code",
      "execution_count": null,
      "metadata": {
        "colab": {
          "base_uri": "https://localhost:8080/"
        },
        "id": "bnMoMIEt7y2J",
        "outputId": "2d6129b6-0039-46cb-edbf-f84b21d06a40"
      },
      "outputs": [
        {
          "name": "stdout",
          "output_type": "stream",
          "text": [
            "6\n",
            "6\n"
          ]
        }
      ],
      "source": [
        "#ピアノ譜格納版\n",
        "#split_arraysには2つ行列がある\n",
        "score_name=\"Elgar_-__Enigma_Variations_-_XI._Nimrod\"\n",
        "score = converter.parse(\"/content/drive/My Drive/music21/\"+score_name+\".mxl\")\n",
        "score_array=musicxml_to_binary_matrix_128_64(score)\n",
        "\n",
        "#出力の数字は実際の小節数と異なるのは途中で3/4になったり2/4になったりするから\n",
        "Nimrod_p1=score_array[0][1:7]    #[:31] #ピアノ譜の最後小節の長さ違うので最後から2小節目まで\n",
        "Nimrod_p2=score_array[1][1:7]    #[:31]\n",
        "print(len(Nimrod_p1))\n",
        "print(len(Nimrod_p2))\n"
      ]
    },
    {
      "cell_type": "code",
      "execution_count": null,
      "metadata": {
        "colab": {
          "base_uri": "https://localhost:8080/"
        },
        "id": "QHt6PFmk71R6",
        "outputId": "bc17a72b-58c2-4299-a7c3-f3195539d1bc"
      },
      "outputs": [
        {
          "name": "stdout",
          "output_type": "stream",
          "text": [
            "6\n",
            "6\n",
            "6\n",
            "6\n"
          ]
        }
      ],
      "source": [
        "#四重奏譜格納版\n",
        "#score_arraysには4つ行列がある\n",
        "score_name=\"Nimrod_for_string_quartet\"\n",
        "score = converter.parse(\"/content/drive/My Drive/music21/\"+score_name+\".mxl\")\n",
        "score_array=musicxml_to_binary_matrix_128_64(score)\n",
        "\n",
        "Nimrod_quartet_1=score_array[0][1:7]    #[1:32]    #ここで長さを揃える\n",
        "Nimrod_quartet_2=score_array[1][1:7]    #[1:32]\n",
        "Nimrod_quartet_3=score_array[2][1:7]    #[1:32]\n",
        "Nimrod_quartet_4=score_array[3][1:7]    #[1:32]\n",
        "\n",
        "print(len(Nimrod_quartet_1[:730]))\n",
        "print(len(Nimrod_quartet_2))\n",
        "print(len(Nimrod_quartet_3))\n",
        "print(len(Nimrod_quartet_4))"
      ]
    },
    {
      "cell_type": "code",
      "execution_count": null,
      "metadata": {
        "colab": {
          "base_uri": "https://localhost:8080/"
        },
        "id": "ELb11QUv73XB",
        "outputId": "525cb03a-37bc-4e74-b680-522a9fb854b6"
      },
      "outputs": [
        {
          "name": "stdout",
          "output_type": "stream",
          "text": [
            "4\n",
            "4\n"
          ]
        }
      ],
      "source": [
        "#ピアノ譜格納版\n",
        "#split_arraysには2つ行列がある\n",
        "score_name=\"Jupiter_I_vow_to_thee_my_county\"\n",
        "score = converter.parse(\"/content/drive/My Drive/music21/\"+score_name+\".mxl\")\n",
        "score_array=musicxml_to_binary_matrix_128_64(score)\n",
        "\n",
        "#出力の数字は実際の小節数と異なるのは途中で3/4になったり2/4になったりするから\n",
        "Jupiter_p1=score_array[0][:4]    #[:17]#18番目が長さが(128,16)ではないので17番目まで\n",
        "Jupiter_p2=score_array[1][:4]    #[:17]\n",
        "print(len(Jupiter_p1))\n",
        "print(len(Jupiter_p2))\n"
      ]
    },
    {
      "cell_type": "code",
      "execution_count": null,
      "metadata": {
        "colab": {
          "base_uri": "https://localhost:8080/"
        },
        "id": "DPL2jHqO75vR",
        "outputId": "137da7fb-e3de-43a1-d7d0-8a3cf68d1ba3"
      },
      "outputs": [
        {
          "name": "stdout",
          "output_type": "stream",
          "text": [
            "4\n",
            "4\n",
            "4\n",
            "4\n"
          ]
        }
      ],
      "source": [
        "#四重奏譜格納版\n",
        "#score_arraysには4つ行列がある\n",
        "score_name=\"Jupiter__Fuld_version\"\n",
        "score = converter.parse(\"/content/drive/My Drive/music21/\"+score_name+\".mxl\")\n",
        "score_array=musicxml_to_binary_matrix_128_64(score)\n",
        "\n",
        "Jupiter_quartet_1=score_array[0][:4]    #[:17]   #ここで長さを揃える\n",
        "Jupiter_quartet_2=score_array[1][:4]    #[:17]\n",
        "Jupiter_quartet_3=score_array[2][:4]    #[:17]\n",
        "Jupiter_quartet_4=score_array[3][:4]    #[:17]\n",
        "\n",
        "print(len(Jupiter_quartet_1[:730]))\n",
        "print(len(Jupiter_quartet_2))\n",
        "print(len(Jupiter_quartet_3))\n",
        "print(len(Jupiter_quartet_4))"
      ]
    },
    {
      "cell_type": "code",
      "execution_count": null,
      "metadata": {
        "colab": {
          "base_uri": "https://localhost:8080/"
        },
        "id": "7-_o7SGE770M",
        "outputId": "0e97734d-121e-44ea-d84f-b1884745bd2a"
      },
      "outputs": [
        {
          "name": "stdout",
          "output_type": "stream",
          "text": [
            "29\n",
            "29\n"
          ]
        }
      ],
      "source": [
        "#ピアノ譜格納版\n",
        "#split_arraysには2つ行列がある\n",
        "score_name=\"Beethoven_Symphony_No._7_2nd_movement_Piano_solo\"\n",
        "score = converter.parse(\"/content/drive/My Drive/music21/\"+score_name+\".mxl\")\n",
        "score_array=musicxml_to_binary_matrix_128_64(score)\n",
        "\n",
        "#吹奏楽譜の最後の二小節がないのでピアノ譜と同じ長さに揃える(2/4なので１つ削除)\n",
        "Beethoven_Symphony_p1=score_array[0][:29]    #[:138]\n",
        "Beethoven_Symphony_p2=score_array[1][:29]    #[:138]\n",
        "print(len(Beethoven_Symphony_p1))\n",
        "print(len(Beethoven_Symphony_p2))"
      ]
    },
    {
      "cell_type": "code",
      "execution_count": null,
      "metadata": {
        "colab": {
          "base_uri": "https://localhost:8080/"
        },
        "id": "8WjJOO9v8ESV",
        "outputId": "8cb219d0-f1c6-4378-9d5c-c42ceb34e898"
      },
      "outputs": [
        {
          "name": "stdout",
          "output_type": "stream",
          "text": [
            "29\n",
            "29\n",
            "29\n",
            "29\n"
          ]
        }
      ],
      "source": [
        "#四重奏譜格納版\n",
        "#score_arraysには4つ行列がある\n",
        "score_name=\"Beethoven_Symphony_No_7_2nd_Movement\"\n",
        "score = converter.parse(\"/content/drive/My Drive/music21/\"+score_name+\".mxl\")\n",
        "score_array=musicxml_to_binary_matrix_128_64(score)\n",
        "\n",
        "Beethoven_Symphony_quartet_1=score_array[0][:29]    #[:138]    #ここで長さを揃える\n",
        "Beethoven_Symphony_quartet_2=score_array[1][:29]    #[:138]\n",
        "Beethoven_Symphony_quartet_3=score_array[2][:29]    #[:138]\n",
        "Beethoven_Symphony_quartet_4=score_array[3][:29]    #[:138]\n",
        "\n",
        "print(len(Beethoven_Symphony_quartet_1))\n",
        "print(len(Beethoven_Symphony_quartet_2))\n",
        "print(len(Beethoven_Symphony_quartet_3))\n",
        "print(len(Beethoven_Symphony_quartet_4))"
      ]
    },
    {
      "cell_type": "code",
      "execution_count": null,
      "metadata": {
        "colab": {
          "base_uri": "https://localhost:8080/"
        },
        "id": "XSkApkjQ8GQ9",
        "outputId": "13a30971-2815-408f-f230-a6a9c0a69bcf"
      },
      "outputs": [
        {
          "name": "stdout",
          "output_type": "stream",
          "text": [
            "4\n",
            "4\n"
          ]
        }
      ],
      "source": [
        "#ピアノ譜格納版\n",
        "#split_arraysには2つ行列がある\n",
        "score_name=\"Air_on_the_G_String_-_Bach_Piano_Solo\"\n",
        "score = converter.parse(\"/content/drive/My Drive/music21/\"+score_name+\".mxl\")\n",
        "score_array=musicxml_to_binary_matrix_128_64(score)\n",
        "\n",
        "#最後の小節の長さが違うので最後１小節カット\n",
        "Air_on_the_G_String_p1=score_array[0][:4]     #[:18]\n",
        "Air_on_the_G_String_p2=score_array[1][:4]     #[:18]\n",
        "print(len(Air_on_the_G_String_p1))\n",
        "print(len(Air_on_the_G_String_p2))"
      ]
    },
    {
      "cell_type": "code",
      "execution_count": null,
      "metadata": {
        "colab": {
          "base_uri": "https://localhost:8080/"
        },
        "id": "iYVyNImc8IVW",
        "outputId": "5a71e9e8-83ef-4a07-bdf4-8d82de1397ee"
      },
      "outputs": [
        {
          "name": "stdout",
          "output_type": "stream",
          "text": [
            "4\n",
            "4\n",
            "4\n",
            "4\n"
          ]
        }
      ],
      "source": [
        "#四重奏譜格納版\n",
        "#score_arraysには4つ行列がある\n",
        "score_name=\"Air_on_the_G_string_cuarteto_de_cuerdas\"\n",
        "score = converter.parse(\"/content/drive/My Drive/music21/\"+score_name+\".mxl\")\n",
        "score_array=musicxml_to_binary_matrix_128_64(score)\n",
        "\n",
        "Air_on_the_G_String_quartet_1=score_array[0][:4]     #[:18]    #ここで長さを揃える\n",
        "Air_on_the_G_String_quartet_2=score_array[1][:4]     #[:18]\n",
        "Air_on_the_G_String_quartet_3=score_array[2][:4]     #[:18]\n",
        "Air_on_the_G_String_quartet_4=score_array[3][:4]     #[:18]\n",
        "\n",
        "print(len(Air_on_the_G_String_quartet_1))\n",
        "print(len(Air_on_the_G_String_quartet_2))\n",
        "print(len(Air_on_the_G_String_quartet_3))\n",
        "print(len(Air_on_the_G_String_quartet_4))"
      ]
    },
    {
      "cell_type": "code",
      "execution_count": null,
      "metadata": {
        "colab": {
          "base_uri": "https://localhost:8080/"
        },
        "id": "B_LE2Zi_8MVn",
        "outputId": "242479bc-4185-4f02-d5c6-71c0112bd628"
      },
      "outputs": [
        {
          "name": "stderr",
          "output_type": "stream",
          "text": [
            "/usr/local/lib/python3.10/dist-packages/music21/musicxml/xmlToM21.py:5312: MusicXMLWarning: Could not import octave-shift: Error in getting Ottava\n",
            "  warnings.warn(f'Could not import {tag}: {excep}', MusicXMLWarning)\n",
            "/usr/local/lib/python3.10/dist-packages/music21/musicxml/xmlToM21.py:5312: MusicXMLWarning: Could not import wedge: Error in getting DynamicWedges\n",
            "  warnings.warn(f'Could not import {tag}: {excep}', MusicXMLWarning)\n"
          ]
        },
        {
          "name": "stdout",
          "output_type": "stream",
          "text": [
            "54\n",
            "54\n"
          ]
        }
      ],
      "source": [
        "#ピアノ譜格納版\n",
        "#split_arraysには2つ行列がある\n",
        "score_name=\"Opus_18_No.4_Arr._For_Piano\"\n",
        "score = converter.parse(\"/content/drive/My Drive/music21/\"+score_name+\".mxl\")\n",
        "score_array=musicxml_to_binary_matrix_128_64(score)\n",
        "\n",
        "#最後の小節の長さが違うので最後１小節カット\n",
        "Opus_18_p1=score_array[0][:54]    #[:219]\n",
        "Opus_18_p2=score_array[1][:54]    #[:219]\n",
        "print(len(Opus_18_p1))\n",
        "print(len(Opus_18_p2))"
      ]
    },
    {
      "cell_type": "code",
      "execution_count": null,
      "metadata": {
        "colab": {
          "base_uri": "https://localhost:8080/"
        },
        "id": "u5c-g6yk8OQ_",
        "outputId": "20909e73-ac54-4db6-e87b-8b120910415a"
      },
      "outputs": [
        {
          "name": "stdout",
          "output_type": "stream",
          "text": [
            "54\n",
            "54\n",
            "54\n",
            "54\n"
          ]
        }
      ],
      "source": [
        "#四重奏譜格納版\n",
        "#score_arraysには4つ行列がある\n",
        "score_name=\"String_Quartet_No._4_in_C_minor_Opus_18_No._4.mscz\"\n",
        "score = converter.parse(\"/content/drive/My Drive/music21/\"+score_name+\".mxl\")\n",
        "score_array=musicxml_to_binary_matrix_128_64(score)\n",
        "\n",
        "Opus_18_quartet_1=score_array[0][:54]    #[:219]    #ここで長さを揃える\n",
        "Opus_18_quartet_2=score_array[1][:54]    #[:219]\n",
        "Opus_18_quartet_3=score_array[2][:54]    #[:219]\n",
        "Opus_18_quartet_4=score_array[3][:54]    #[:219]\n",
        "\n",
        "print(len(Opus_18_quartet_1))\n",
        "print(len(Opus_18_quartet_2))\n",
        "print(len(Opus_18_quartet_3))\n",
        "print(len(Opus_18_quartet_4))"
      ]
    },
    {
      "cell_type": "code",
      "execution_count": null,
      "metadata": {
        "colab": {
          "base_uri": "https://localhost:8080/"
        },
        "id": "hvIUZciP8QWY",
        "outputId": "acfd4764-4ece-443d-9015-96e91a10566a"
      },
      "outputs": [
        {
          "name": "stdout",
          "output_type": "stream",
          "text": [
            "22\n",
            "22\n"
          ]
        }
      ],
      "source": [
        "#ピアノ譜格納版\n",
        "#split_arraysには2つ行列がある\n",
        "score_name=\"Nutcrcaker_Overture\"\n",
        "score = converter.parse(\"/content/drive/My Drive/music21/\"+score_name+\".mxl\")\n",
        "score_array=musicxml_to_binary_matrix_128_64(score)\n",
        "\n",
        "#2つ違うだけだが行列を確認した結果、2/4の最後2小節をカット\n",
        "Nutcrcaker_Overture_p1=score_array[0][:22]   #[:90]\n",
        "Nutcrcaker_Overture_p2=score_array[1][:22]   #[:90]\n",
        "print(len(Nutcrcaker_Overture_p1))\n",
        "print(len(Nutcrcaker_Overture_p2))"
      ]
    },
    {
      "cell_type": "code",
      "execution_count": null,
      "metadata": {
        "colab": {
          "base_uri": "https://localhost:8080/"
        },
        "id": "M4wq_D2Y8Q31",
        "outputId": "069c3014-d85d-4191-af20-1a98745ea238"
      },
      "outputs": [
        {
          "name": "stdout",
          "output_type": "stream",
          "text": [
            "22\n",
            "22\n",
            "22\n",
            "22\n"
          ]
        }
      ],
      "source": [
        "#四重奏譜格納版\n",
        "#score_arraysには4つ行列がある\n",
        "score_name=\"Tchaikovsky_Op._71a_-_The_Nutcracker_Suite_for_String_Quartet_-_I._Ouverture_Miniature\"\n",
        "score = converter.parse(\"/content/drive/My Drive/music21/\"+score_name+\".mxl\")\n",
        "score_array=musicxml_to_binary_matrix_128_64(score)\n",
        "\n",
        "Nutcrcaker_Overture_quartet_1=score_array[0][:22]   #[:90]    #ここで長さを揃える\n",
        "Nutcrcaker_Overture_quartet_2=score_array[1][:22]   #[:90]\n",
        "Nutcrcaker_Overture_quartet_3=score_array[2][:22]   #[:90]\n",
        "Nutcrcaker_Overture_quartet_4=score_array[3][:22]   #[:90]\n",
        "\n",
        "print(len(Nutcrcaker_Overture_quartet_1))\n",
        "print(len(Nutcrcaker_Overture_quartet_2))\n",
        "print(len(Nutcrcaker_Overture_quartet_3))\n",
        "print(len(Nutcrcaker_Overture_quartet_4))"
      ]
    },
    {
      "cell_type": "code",
      "execution_count": null,
      "metadata": {
        "colab": {
          "base_uri": "https://localhost:8080/",
          "height": 114
        },
        "id": "XLU_Xdav8Ugr",
        "outputId": "3d8018d2-51fd-4de1-da50-81698fc2fcb6"
      },
      "outputs": [
        {
          "data": {
            "application/vnd.google.colaboratory.intrinsic+json": {
              "type": "string"
            },
            "text/plain": [
              "' #scorearrayを128,16ずつの行列のを保存して長さを調整すれば揃うが2セットなのでデータセットに用いない\\n#ピアノ譜格納版\\n#split_arraysには2つ行列がある\\nscore_name=\"Hungarian_Dance_No_5_in_G_Minor\"\\nscore = converter.parse(\"/content/drive/My Drive/music21/\"+score_name+\".mxl\")   \\nscore_array=musicxml_to_binary_matrix_128_64(score)\\n\\n#ピアノ譜2/4の1〜16小節目と四重奏譜3〜18が同じ   \\n#ピアノ33〜48と四重奏譜19〜34が同じ\\n\\nHungarian_Dance_p1=score_array[0][4:6]        #[:7]+(score_array[0][16:24])\\nHungarian_Dance_p2=score_array[1][:1]+(score_array[0][4:6])        #[:7]+(score_array[1][16:24])\\nprint(len(Hungarian_Dance_p1))\\nprint(len(Hungarian_Dance_p2)) '"
            ]
          },
          "execution_count": 87,
          "metadata": {},
          "output_type": "execute_result"
        }
      ],
      "source": [
        "''' #scorearrayを128,16ずつの行列のを保存して長さを調整すれば揃うが2セットなのでデータセットに用いない\n",
        "#ピアノ譜格納版\n",
        "#split_arraysには2つ行列がある\n",
        "score_name=\"Hungarian_Dance_No_5_in_G_Minor\"\n",
        "score = converter.parse(\"/content/drive/My Drive/music21/\"+score_name+\".mxl\")\n",
        "score_array=musicxml_to_binary_matrix_128_64(score)\n",
        "\n",
        "#ピアノ譜2/4の1〜16小節目と四重奏譜3〜18が同じ\n",
        "#ピアノ33〜48と四重奏譜19〜34が同じ\n",
        "\n",
        "Hungarian_Dance_p1=score_array[0][4:6]        #[:7]+(score_array[0][16:24])\n",
        "Hungarian_Dance_p2=score_array[1][:1]+(score_array[0][4:6])        #[:7]+(score_array[1][16:24])\n",
        "print(len(Hungarian_Dance_p1))\n",
        "print(len(Hungarian_Dance_p2)) '''"
      ]
    },
    {
      "cell_type": "code",
      "execution_count": null,
      "metadata": {
        "colab": {
          "base_uri": "https://localhost:8080/",
          "height": 133
        },
        "id": "djnqWtZd8WTx",
        "outputId": "44ee6dfa-c6d2-48fb-d0d9-5b87cb016b41"
      },
      "outputs": [
        {
          "data": {
            "application/vnd.google.colaboratory.intrinsic+json": {
              "type": "string"
            },
            "text/plain": [
              "' #四重奏譜格納版\\n#score_arraysには4つ行列がある\\nscore_name=\"Hungarian_Dance_no._5_for_string_quartet\"\\nscore = converter.parse(\"/content/drive/My Drive/music21/\"+score_name+\".mxl\")\\nscore_array=musicxml_to_binary_matrix_128_64(score)\\n\\nHungarian_Dance_quartet_1=score_array[0][1:2]       # [2:9]+(score_array[0][9:17])\\nHungarian_Dance_quartet_2=score_array[0][1:2]+(score_array[0][3:4])     #[2:9]+(score_array[0][9:17])\\nHungarian_Dance_quartet_3=score_array[0][1:2]+(score_array[0][3:4])     #[2:9]+(score_array[0][9:17])\\nHungarian_Dance_quartet_4=score_array[0][1:2]+(score_array[0][3:4])     #[2:9]+(score_array[0][9:17])\\n\\nprint(len(Hungarian_Dance_quartet_1))\\nprint(len(Hungarian_Dance_quartet_2))\\nprint(len(Hungarian_Dance_quartet_3))\\nprint(len(Hungarian_Dance_quartet_4)) '"
            ]
          },
          "execution_count": 88,
          "metadata": {},
          "output_type": "execute_result"
        }
      ],
      "source": [
        "''' #四重奏譜格納版\n",
        "#score_arraysには4つ行列がある\n",
        "score_name=\"Hungarian_Dance_no._5_for_string_quartet\"\n",
        "score = converter.parse(\"/content/drive/My Drive/music21/\"+score_name+\".mxl\")\n",
        "score_array=musicxml_to_binary_matrix_128_64(score)\n",
        "\n",
        "Hungarian_Dance_quartet_1=score_array[0][1:2]       # [2:9]+(score_array[0][9:17])\n",
        "Hungarian_Dance_quartet_2=score_array[0][1:2]+(score_array[0][3:4])     #[2:9]+(score_array[0][9:17])\n",
        "Hungarian_Dance_quartet_3=score_array[0][1:2]+(score_array[0][3:4])     #[2:9]+(score_array[0][9:17])\n",
        "Hungarian_Dance_quartet_4=score_array[0][1:2]+(score_array[0][3:4])     #[2:9]+(score_array[0][9:17])\n",
        "\n",
        "print(len(Hungarian_Dance_quartet_1))\n",
        "print(len(Hungarian_Dance_quartet_2))\n",
        "print(len(Hungarian_Dance_quartet_3))\n",
        "print(len(Hungarian_Dance_quartet_4)) '''"
      ]
    },
    {
      "cell_type": "code",
      "execution_count": null,
      "metadata": {
        "colab": {
          "base_uri": "https://localhost:8080/"
        },
        "id": "_aWfQB5O8Yxn",
        "outputId": "9ed4ff1c-c247-4d12-e535-09fe4a1d387a"
      },
      "outputs": [
        {
          "name": "stdout",
          "output_type": "stream",
          "text": [
            "5\n",
            "5\n"
          ]
        }
      ],
      "source": [
        "#ピアノ譜格納版\n",
        "#split_arraysには2つ行列がある\n",
        "score_name=\"The_Glorious_State_Anthem_of_the_Soviet_Union\"\n",
        "score = converter.parse(\"/content/drive/My Drive/music21/\"+score_name+\".mxl\")\n",
        "score_array=musicxml_to_binary_matrix_128_64(score)\n",
        "\n",
        "Anthem_of_the_Soviet_Union_p1=score_array[0][:5]    #[:21]\n",
        "Anthem_of_the_Soviet_Union_p2=score_array[1][:5]    #[:21]\n",
        "print(len(Anthem_of_the_Soviet_Union_p1))\n",
        "print(len(Anthem_of_the_Soviet_Union_p2))"
      ]
    },
    {
      "cell_type": "code",
      "execution_count": null,
      "metadata": {
        "colab": {
          "base_uri": "https://localhost:8080/"
        },
        "id": "aqhj7r1_8a2K",
        "outputId": "b4697c03-bd08-4175-89ae-bdfa4e4e97e4"
      },
      "outputs": [
        {
          "name": "stdout",
          "output_type": "stream",
          "text": [
            "5\n",
            "5\n",
            "5\n",
            "5\n"
          ]
        }
      ],
      "source": [
        "#四重奏譜格納版\n",
        "#score_arraysには4つ行列がある\n",
        "score_name=\"National_Anthem_of_the_Soviet_UnionRussia_for_string_quartet\"\n",
        "score = converter.parse(\"/content/drive/My Drive/music21/\"+score_name+\".mxl\")\n",
        "score_array=musicxml_to_binary_matrix_128_64(score)\n",
        "\n",
        "Anthem_of_the_Soviet_Union_quartet_1=score_array[0][:5]    #[:21]    #ここで長さを揃える\n",
        "Anthem_of_the_Soviet_Union_quartet_2=score_array[1][:5]    #[:21]\n",
        "Anthem_of_the_Soviet_Union_quartet_3=score_array[2][:5]    #[:21]\n",
        "Anthem_of_the_Soviet_Union_quartet_4=score_array[3][:5]    #[:21]\n",
        "\n",
        "print(len(Anthem_of_the_Soviet_Union_quartet_1))\n",
        "print(len(Anthem_of_the_Soviet_Union_quartet_2))\n",
        "print(len(Anthem_of_the_Soviet_Union_quartet_3))\n",
        "print(len(Anthem_of_the_Soviet_Union_quartet_4))"
      ]
    },
    {
      "cell_type": "code",
      "execution_count": null,
      "metadata": {
        "colab": {
          "base_uri": "https://localhost:8080/"
        },
        "id": "piIa5Mwb8dqR",
        "outputId": "8055fa8a-f499-460c-a8bd-df1bec5e171f"
      },
      "outputs": [
        {
          "name": "stdout",
          "output_type": "stream",
          "text": [
            "28\n",
            "28\n"
          ]
        }
      ],
      "source": [
        "#ピアノ譜格納版\n",
        "#split_arraysには2つ行列がある\n",
        "score_name=\"Beethoven_-_Sonata_No._14_Op._27_No._2_MondscheinMoonlight\"\n",
        "score = converter.parse(\"/content/drive/My Drive/music21/\"+score_name+\".mxl\")\n",
        "score_array=musicxml_to_binary_matrix_128_64(score)\n",
        "\n",
        "#出力の数字は実際の小節数と異なるのは途中で3/4になったり2/4になったりするから\n",
        "Moonlight_p1=score_array[0][:28]  #[:113]\n",
        "Moonlight_p2=score_array[1][:28]  #[:113]\n",
        "print(len(Moonlight_p1))\n",
        "print(len(Moonlight_p2))"
      ]
    },
    {
      "cell_type": "code",
      "execution_count": null,
      "metadata": {
        "colab": {
          "base_uri": "https://localhost:8080/"
        },
        "id": "kmmRxacf8eNG",
        "outputId": "474dc7f2-1235-4668-8e33-9754d2f66b04"
      },
      "outputs": [
        {
          "name": "stdout",
          "output_type": "stream",
          "text": [
            "28\n",
            "28\n",
            "28\n",
            "28\n"
          ]
        }
      ],
      "source": [
        "#四重奏譜格納版\n",
        "#score_arraysには4つ行列がある\n",
        "score_name=\"Moonlight_Sonata_Arr._for_String_Quartet\"\n",
        "score = converter.parse(\"/content/drive/My Drive/music21/\"+score_name+\".mxl\")\n",
        "score_array=musicxml_to_binary_matrix_128_64(score)\n",
        "\n",
        "Moonlight_quartet_1=score_array[0][:28]  #[:113]    #ここで長さを揃える\n",
        "Moonlight_quartet_2=score_array[1][:28]  #[:113]\n",
        "Moonlight_quartet_3=score_array[2][:28]  #[:113]\n",
        "Moonlight_quartet_4=score_array[3][:28]  #[:113]\n",
        "\n",
        "print(len(Moonlight_quartet_1))\n",
        "print(len(Moonlight_quartet_2))\n",
        "print(len(Moonlight_quartet_3))\n",
        "print(len(Moonlight_quartet_4))"
      ]
    },
    {
      "cell_type": "code",
      "execution_count": null,
      "metadata": {
        "colab": {
          "base_uri": "https://localhost:8080/"
        },
        "id": "-RaKrnO18f2v",
        "outputId": "86f0b638-69e1-4f2c-ce1f-dace83cef127"
      },
      "outputs": [
        {
          "name": "stdout",
          "output_type": "stream",
          "text": [
            "9\n",
            "9\n"
          ]
        }
      ],
      "source": [
        "#ピアノ譜格納版\n",
        "#split_arraysには2つ行列がある\n",
        "score_name=\"Le_Cygne_The_Swan\"\n",
        "score = converter.parse(\"/content/drive/My Drive/music21/\"+score_name+\".mxl\")\n",
        "score_array=musicxml_to_binary_matrix_128_64(score)\n",
        "\n",
        "#出力の数字は実際の小節数と異なるのは途中で3/4になったり2/4になったりするから\n",
        "The_Swan_p1=score_array[0][:9]    #[:39]\n",
        "The_Swan_p2=score_array[1][:9]    #[:39]\n",
        "print(len(The_Swan_p1))\n",
        "print(len(The_Swan_p2))"
      ]
    },
    {
      "cell_type": "code",
      "execution_count": null,
      "metadata": {
        "colab": {
          "base_uri": "https://localhost:8080/"
        },
        "id": "qM-QZx_N8iZ0",
        "outputId": "01e774b4-16d4-43d5-a356-6af70da4dfd4"
      },
      "outputs": [
        {
          "name": "stdout",
          "output_type": "stream",
          "text": [
            "9\n",
            "9\n",
            "9\n",
            "9\n"
          ]
        }
      ],
      "source": [
        "#四重奏譜格納版\n",
        "#score_arraysには4つ行列がある\n",
        "score_name=\"Le_Cygne_The_Swan_-_Saint-Sans\"\n",
        "score = converter.parse(\"/content/drive/My Drive/music21/\"+score_name+\".mxl\")\n",
        "score_array=musicxml_to_binary_matrix_128_64(score)\n",
        "\n",
        "The_Swan_quartet_1=score_array[0][:9]    #[:39]    # パート４の最後の小節が足りてないので[:39]]\n",
        "The_Swan_quartet_2=score_array[1][:9]    #[:39]\n",
        "The_Swan_quartet_3=score_array[2][:9]    #[:39]\n",
        "The_Swan_quartet_4=score_array[3][:9]    #[:39]\n",
        "\n",
        "print(len(The_Swan_quartet_1))\n",
        "print(len(The_Swan_quartet_2))\n",
        "print(len(The_Swan_quartet_3))\n",
        "print(len(The_Swan_quartet_4))"
      ]
    },
    {
      "cell_type": "code",
      "execution_count": null,
      "metadata": {
        "colab": {
          "base_uri": "https://localhost:8080/"
        },
        "id": "JNS84bWt8kSu",
        "outputId": "4cf7db25-b4f8-48bc-f9cf-bc8486aac1a6"
      },
      "outputs": [
        {
          "name": "stdout",
          "output_type": "stream",
          "text": [
            "662\n",
            "(128, 64)\n"
          ]
        }
      ],
      "source": [
        "#HungarianDanceを含まない\n",
        "piano_list_128_64=Wedding_March_p1+Wedding_March_p2+The_entertainer_p1+The_entertainer_p2+Sarabande_p1+Sarabande_p2+Nearer_my_god_to_three_p1+Nearer_my_god_to_three_p2+Eine_Kleine_Nachtmusik_p1+Eine_Kleine_Nachtmusik_p2+Lacrimosa_p1+Lacrimosa_p2+Dance_of_the_sugar_plum_fairy_p1+Dance_of_the_sugar_plum_fairy_p2+Morning_mood_p1+Morning_mood_p2+Korobeiniki_tetris_p1+Korobeiniki_tetris_p2+Ode_to_joy_p1+Ode_to_joy_p2+Beethovenvirus_p1+Beethovenvirus_p2+Canon_p1+Canon_p2+Serenade_p1+Serenade_p2+Nimrod_p1+Nimrod_p2+Jupiter_p1+Jupiter_p2+Beethoven_Symphony_p1+Beethoven_Symphony_p2+Air_on_the_G_String_p1+Air_on_the_G_String_p2+Opus_18_p1+Opus_18_p2+Nutcrcaker_Overture_p1+Nutcrcaker_Overture_p2+Anthem_of_the_Soviet_Union_p1+Anthem_of_the_Soviet_Union_p2+Moonlight_p1+Moonlight_p2+The_Swan_p1+The_Swan_p2\n",
        "print(len(piano_list_128_64))\n",
        "print(piano_list_128_64[0].shape)"
      ]
    },
    {
      "cell_type": "code",
      "execution_count": null,
      "metadata": {
        "colab": {
          "base_uri": "https://localhost:8080/"
        },
        "id": "bSb02aKSD7ZU",
        "outputId": "295b2f00-b37f-4747-8b9b-91bcd48aa581"
      },
      "outputs": [
        {
          "name": "stdout",
          "output_type": "stream",
          "text": [
            "1324\n",
            "(128, 64)\n"
          ]
        }
      ],
      "source": [
        "quartet_list_128_64=Wedding_March_quartet_1+Wedding_March_quartet_2+Wedding_March_quartet_3+Wedding_March_quartet_4+The_entertainer_quartet_1+The_entertainer_quartet_2+The_entertainer_quartet_3+The_entertainer_quartet_4+Sarabande_quartet_1+Sarabande_quartet_2+Sarabande_quartet_3+Sarabande_quartet_4+Nearer_my_god_to_three_quartet_1+Nearer_my_god_to_three_quartet_2+Nearer_my_god_to_three_quartet_3+Nearer_my_god_to_three_quartet_4+Eine_Kleine_Nachtmusik_quartet_1+Eine_Kleine_Nachtmusik_quartet_2+Eine_Kleine_Nachtmusik_quartet_3+Eine_Kleine_Nachtmusik_quartet_4+Lacrimosa_quartet_1+Lacrimosa_quartet_2+Lacrimosa_quartet_3+Lacrimosa_quartet_4+Dance_of_the_sugar_plum_fairy_quartet_1+Dance_of_the_sugar_plum_fairy_quartet_2+Dance_of_the_sugar_plum_fairy_quartet_3+Dance_of_the_sugar_plum_fairy_quartet_4+Morning_mood_quartet_1+Morning_mood_quartet_2+Morning_mood_quartet_3+Morning_mood_quartet_4+Korobeiniki_tetris_quartet_1+Korobeiniki_tetris_quartet_2+Korobeiniki_tetris_quartet_3+Korobeiniki_tetris_quartet_4+Ode_to_joy_quartet_1+Ode_to_joy_quartet_2+Ode_to_joy_quartet_3+Ode_to_joy_quartet_4+Beethovenvirus_quartet_1+Beethovenvirus_quartet_2+Beethovenvirus_quartet_3+Beethovenvirus_quartet_4+Canon_quartet_1+Canon_quartet_2+Canon_quartet_3+Canon_quartet_4+Serenade_quartet_1+Serenade_quartet_2+Serenade_quartet_3+Serenade_quartet_4+Nimrod_quartet_1+Nimrod_quartet_2+Nimrod_quartet_3+Nimrod_quartet_4+Jupiter_quartet_1+Jupiter_quartet_2+Jupiter_quartet_3+Jupiter_quartet_4+Beethoven_Symphony_quartet_1+Beethoven_Symphony_quartet_2+Beethoven_Symphony_quartet_3+Beethoven_Symphony_quartet_4+Air_on_the_G_String_quartet_1+Air_on_the_G_String_quartet_2+Air_on_the_G_String_quartet_3+Air_on_the_G_String_quartet_4+Opus_18_quartet_1+Opus_18_quartet_2+Opus_18_quartet_3+Opus_18_quartet_4+Nutcrcaker_Overture_quartet_1+Nutcrcaker_Overture_quartet_2+Nutcrcaker_Overture_quartet_3+Nutcrcaker_Overture_quartet_4+Anthem_of_the_Soviet_Union_quartet_1+Anthem_of_the_Soviet_Union_quartet_2+Anthem_of_the_Soviet_Union_quartet_3+Anthem_of_the_Soviet_Union_quartet_4+Moonlight_quartet_1+Moonlight_quartet_2+Moonlight_quartet_3+Moonlight_quartet_4+The_Swan_quartet_1+The_Swan_quartet_2+The_Swan_quartet_3+The_Swan_quartet_4\n",
        "print(len(quartet_list_128_64))\n",
        "print(quartet_list_128_64[0].shape)"
      ]
    },
    {
      "cell_type": "markdown",
      "metadata": {},
      "source": [
        "### ピアノ行列と四重奏行列が格納されたリストをnpyファイルとして保存"
      ]
    },
    {
      "cell_type": "code",
      "execution_count": null,
      "metadata": {
        "id": "Ezja_SkuFEgg"
      },
      "outputs": [],
      "source": [
        "np.save('/content/drive/MyDrive/music21/data/piano_list_128_64',piano_list_128_64)\n",
        "np.save('/content/drive/MyDrive/music21/data/quartet_list_128_64',quartet_list_128_64)"
      ]
    },
    {
      "cell_type": "code",
      "execution_count": null,
      "metadata": {
        "colab": {
          "base_uri": "https://localhost:8080/"
        },
        "id": "Q1HD6P-nI5Bb",
        "outputId": "1f7165bd-2ad9-4735-ae95-7fca73fa85a7"
      },
      "outputs": [
        {
          "name": "stdout",
          "output_type": "stream",
          "text": [
            "(128, 64)\n"
          ]
        }
      ],
      "source": [
        "piano_list_128_64=np.load('/content/drive/MyDrive/music21/data/piano_list_128_64.npy')  #inputs_checkはi=10の時の入力とラベル\n",
        "quartet_list_128_64=np.load('/content/drive/MyDrive/music21/data/quartet_list_128_64.npy')\n"
      ]
    },
    {
      "cell_type": "code",
      "execution_count": null,
      "metadata": {
        "colab": {
          "base_uri": "https://localhost:8080/"
        },
        "id": "FS9KxPKgJe2c",
        "outputId": "c7249061-1d55-4b17-fe9d-2e39cc4dd23c"
      },
      "outputs": [
        {
          "name": "stdout",
          "output_type": "stream",
          "text": [
            "662\n",
            "1324\n",
            "(128, 64)\n",
            "(128, 64)\n"
          ]
        }
      ],
      "source": [
        "#np.loadからの読み込み確認\n",
        "print(len(piano_list_128_64))\n",
        "print(len(quartet_list_128_64))\n",
        "print(piano_list_128_64[0].shape)\n",
        "print(quartet_list_128_64[0].shape)"
      ]
    },
    {
      "cell_type": "code",
      "execution_count": null,
      "metadata": {
        "id": "shl0blcjJmUz"
      },
      "outputs": [],
      "source": []
    }
  ],
  "metadata": {
    "colab": {
      "provenance": []
    },
    "kernelspec": {
      "display_name": "Python 3",
      "name": "python3"
    },
    "language_info": {
      "name": "python"
    }
  },
  "nbformat": 4,
  "nbformat_minor": 0
}
